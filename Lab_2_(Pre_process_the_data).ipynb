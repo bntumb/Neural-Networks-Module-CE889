{
  "nbformat": 4,
  "nbformat_minor": 0,
  "metadata": {
    "colab": {
      "name": "Lab 2 (Pre-process the data)",
      "provenance": [],
      "authorship_tag": "ABX9TyM5PS4y3oFG77ezUbUSQT4j",
      "include_colab_link": true
    },
    "kernelspec": {
      "name": "python3",
      "display_name": "Python 3"
    },
    "language_info": {
      "name": "python"
    }
  },
  "cells": [
    {
      "cell_type": "markdown",
      "metadata": {
        "id": "view-in-github",
        "colab_type": "text"
      },
      "source": [
        "<a href=\"https://colab.research.google.com/github/bntumb/Neural-Networks-Module-CE889/blob/main/Lab_2_(Pre_process_the_data).ipynb\" target=\"_parent\"><img src=\"https://colab.research.google.com/assets/colab-badge.svg\" alt=\"Open In Colab\"/></a>"
      ]
    },
    {
      "cell_type": "markdown",
      "source": [
        "Author: Ben-Elie Ntumba"
      ],
      "metadata": {
        "id": "VuzQPlng2YjC"
      }
    },
    {
      "cell_type": "markdown",
      "source": [
        "#**Loading Dependencies**"
      ],
      "metadata": {
        "id": "8pRiK1HD3H2r"
      }
    },
    {
      "cell_type": "code",
      "source": [
        "import numpy as np\n",
        "import pandas as pd\n",
        "\n",
        "import io\n",
        "\n",
        "# preprocessing\n",
        "from statistics import median\n",
        "from sklearn import preprocessing\n",
        "from sklearn.preprocessing import MinMaxScaler\n",
        "from sklearn.model_selection import train_test_split\n"
      ],
      "metadata": {
        "id": "KYN32Jl73HM6"
      },
      "execution_count": 54,
      "outputs": []
    },
    {
      "cell_type": "markdown",
      "metadata": {
        "id": "h4oLFtlj-OlX"
      },
      "source": [
        "\n",
        "# **Loading data**\n",
        "\n",
        "The data was sourced from running the Lunar Lander game, and uploaded to GitHub\n"
      ]
    },
    {
      "cell_type": "code",
      "source": [
        "data_url = \"https://raw.githubusercontent.com/bntumb/Neural-Networks-Module-CE889/main/ce889_dataCollection.csv\"\n",
        "\n",
        "dataset = pd.read_csv(data_url, header=None)"
      ],
      "metadata": {
        "id": "-5mS26O121fS"
      },
      "execution_count": 33,
      "outputs": []
    },
    {
      "cell_type": "code",
      "source": [
        "dataset.head()"
      ],
      "metadata": {
        "colab": {
          "base_uri": "https://localhost:8080/",
          "height": 206
        },
        "id": "aS7eNmhg3ltS",
        "outputId": "ef7b575d-b0e0-453d-945b-daf85fb6bb97"
      },
      "execution_count": 34,
      "outputs": [
        {
          "output_type": "execute_result",
          "data": {
            "text/html": [
              "<div>\n",
              "<style scoped>\n",
              "    .dataframe tbody tr th:only-of-type {\n",
              "        vertical-align: middle;\n",
              "    }\n",
              "\n",
              "    .dataframe tbody tr th {\n",
              "        vertical-align: top;\n",
              "    }\n",
              "\n",
              "    .dataframe thead th {\n",
              "        text-align: right;\n",
              "    }\n",
              "</style>\n",
              "<table border=\"1\" class=\"dataframe\">\n",
              "  <thead>\n",
              "    <tr style=\"text-align: right;\">\n",
              "      <th></th>\n",
              "      <th>0</th>\n",
              "      <th>1</th>\n",
              "      <th>2</th>\n",
              "      <th>3</th>\n",
              "    </tr>\n",
              "  </thead>\n",
              "  <tbody>\n",
              "    <tr>\n",
              "      <th>0</th>\n",
              "      <td>-169.006721</td>\n",
              "      <td>431.9</td>\n",
              "      <td>0.0</td>\n",
              "      <td>0.00</td>\n",
              "    </tr>\n",
              "    <tr>\n",
              "      <th>1</th>\n",
              "      <td>-169.006721</td>\n",
              "      <td>431.9</td>\n",
              "      <td>-0.1</td>\n",
              "      <td>0.04</td>\n",
              "    </tr>\n",
              "    <tr>\n",
              "      <th>2</th>\n",
              "      <td>-169.046721</td>\n",
              "      <td>432.0</td>\n",
              "      <td>-0.2</td>\n",
              "      <td>0.00</td>\n",
              "    </tr>\n",
              "    <tr>\n",
              "      <th>3</th>\n",
              "      <td>-169.046721</td>\n",
              "      <td>432.2</td>\n",
              "      <td>-0.3</td>\n",
              "      <td>0.04</td>\n",
              "    </tr>\n",
              "    <tr>\n",
              "      <th>4</th>\n",
              "      <td>-169.086721</td>\n",
              "      <td>432.5</td>\n",
              "      <td>-0.4</td>\n",
              "      <td>0.00</td>\n",
              "    </tr>\n",
              "  </tbody>\n",
              "</table>\n",
              "</div>"
            ],
            "text/plain": [
              "            0      1    2     3\n",
              "0 -169.006721  431.9  0.0  0.00\n",
              "1 -169.006721  431.9 -0.1  0.04\n",
              "2 -169.046721  432.0 -0.2  0.00\n",
              "3 -169.046721  432.2 -0.3  0.04\n",
              "4 -169.086721  432.5 -0.4  0.00"
            ]
          },
          "metadata": {},
          "execution_count": 34
        }
      ]
    },
    {
      "cell_type": "code",
      "source": [
        "dataset.fillna(median, inplace=True)"
      ],
      "metadata": {
        "id": "gNaBJmwP97Aa"
      },
      "execution_count": 37,
      "outputs": []
    },
    {
      "cell_type": "markdown",
      "source": [
        "scale the data"
      ],
      "metadata": {
        "id": "Vspv2PU74GID"
      }
    },
    {
      "cell_type": "code",
      "source": [
        "\n",
        "scaler = MinMaxScaler(feature_range=(0, 1))\n",
        "# transform data\n",
        "data_scaled = scaler.fit_transform(dataset)\n"
      ],
      "metadata": {
        "id": "TtDGe5qxDBM-"
      },
      "execution_count": 47,
      "outputs": []
    },
    {
      "cell_type": "code",
      "source": [
        "data_scaled = pd.DataFrame(data=data_scaled, columns=['input1','input2','output1','output2'])\n"
      ],
      "metadata": {
        "id": "fJFf5TEbrDWs"
      },
      "execution_count": 48,
      "outputs": []
    },
    {
      "cell_type": "code",
      "source": [
        "data_scaled.shape"
      ],
      "metadata": {
        "colab": {
          "base_uri": "https://localhost:8080/"
        },
        "id": "xIjgSEbq4ozq",
        "outputId": "e3770fe7-2a2a-4021-e926-bfa3009e7c55"
      },
      "execution_count": 50,
      "outputs": [
        {
          "output_type": "execute_result",
          "data": {
            "text/plain": [
              "(662, 4)"
            ]
          },
          "metadata": {},
          "execution_count": 50
        }
      ]
    },
    {
      "cell_type": "code",
      "source": [
        "from sklearn.feature_selection import SelectKBest\n",
        "from sklearn.feature_selection import chi2"
      ],
      "metadata": {
        "id": "cELUoDVU6Wtj"
      },
      "execution_count": 41,
      "outputs": []
    },
    {
      "cell_type": "code",
      "source": [
        "data_scaled.drop_duplicates()"
      ],
      "metadata": {
        "colab": {
          "base_uri": "https://localhost:8080/",
          "height": 424
        },
        "id": "O7Euu1eY_bZ5",
        "outputId": "aaf40a8c-3141-4d46-f8f8-ffafd4f8ca1a"
      },
      "execution_count": 51,
      "outputs": [
        {
          "output_type": "execute_result",
          "data": {
            "text/html": [
              "<div>\n",
              "<style scoped>\n",
              "    .dataframe tbody tr th:only-of-type {\n",
              "        vertical-align: middle;\n",
              "    }\n",
              "\n",
              "    .dataframe tbody tr th {\n",
              "        vertical-align: top;\n",
              "    }\n",
              "\n",
              "    .dataframe thead th {\n",
              "        text-align: right;\n",
              "    }\n",
              "</style>\n",
              "<table border=\"1\" class=\"dataframe\">\n",
              "  <thead>\n",
              "    <tr style=\"text-align: right;\">\n",
              "      <th></th>\n",
              "      <th>input1</th>\n",
              "      <th>input2</th>\n",
              "      <th>output1</th>\n",
              "      <th>output2</th>\n",
              "    </tr>\n",
              "  </thead>\n",
              "  <tbody>\n",
              "    <tr>\n",
              "      <th>0</th>\n",
              "      <td>0.005812</td>\n",
              "      <td>0.540389</td>\n",
              "      <td>0.323195</td>\n",
              "      <td>0.592560</td>\n",
              "    </tr>\n",
              "    <tr>\n",
              "      <th>1</th>\n",
              "      <td>0.005812</td>\n",
              "      <td>0.540389</td>\n",
              "      <td>0.314690</td>\n",
              "      <td>0.598720</td>\n",
              "    </tr>\n",
              "    <tr>\n",
              "      <th>2</th>\n",
              "      <td>0.005677</td>\n",
              "      <td>0.540538</td>\n",
              "      <td>0.306184</td>\n",
              "      <td>0.592560</td>\n",
              "    </tr>\n",
              "    <tr>\n",
              "      <th>3</th>\n",
              "      <td>0.005677</td>\n",
              "      <td>0.540835</td>\n",
              "      <td>0.297679</td>\n",
              "      <td>0.598720</td>\n",
              "    </tr>\n",
              "    <tr>\n",
              "      <th>4</th>\n",
              "      <td>0.005542</td>\n",
              "      <td>0.541281</td>\n",
              "      <td>0.289174</td>\n",
              "      <td>0.592560</td>\n",
              "    </tr>\n",
              "    <tr>\n",
              "      <th>...</th>\n",
              "      <td>...</td>\n",
              "      <td>...</td>\n",
              "      <td>...</td>\n",
              "      <td>...</td>\n",
              "    </tr>\n",
              "    <tr>\n",
              "      <th>657</th>\n",
              "      <td>0.646146</td>\n",
              "      <td>0.047344</td>\n",
              "      <td>1.000000</td>\n",
              "      <td>0.588759</td>\n",
              "    </tr>\n",
              "    <tr>\n",
              "      <th>658</th>\n",
              "      <td>0.646229</td>\n",
              "      <td>0.035508</td>\n",
              "      <td>1.000000</td>\n",
              "      <td>0.588759</td>\n",
              "    </tr>\n",
              "    <tr>\n",
              "      <th>659</th>\n",
              "      <td>0.646312</td>\n",
              "      <td>0.023672</td>\n",
              "      <td>1.000000</td>\n",
              "      <td>0.588759</td>\n",
              "    </tr>\n",
              "    <tr>\n",
              "      <th>660</th>\n",
              "      <td>0.646396</td>\n",
              "      <td>0.011836</td>\n",
              "      <td>1.000000</td>\n",
              "      <td>0.588759</td>\n",
              "    </tr>\n",
              "    <tr>\n",
              "      <th>661</th>\n",
              "      <td>0.646479</td>\n",
              "      <td>0.000000</td>\n",
              "      <td>1.000000</td>\n",
              "      <td>0.588759</td>\n",
              "    </tr>\n",
              "  </tbody>\n",
              "</table>\n",
              "<p>662 rows × 4 columns</p>\n",
              "</div>"
            ],
            "text/plain": [
              "       input1    input2   output1   output2\n",
              "0    0.005812  0.540389  0.323195  0.592560\n",
              "1    0.005812  0.540389  0.314690  0.598720\n",
              "2    0.005677  0.540538  0.306184  0.592560\n",
              "3    0.005677  0.540835  0.297679  0.598720\n",
              "4    0.005542  0.541281  0.289174  0.592560\n",
              "..        ...       ...       ...       ...\n",
              "657  0.646146  0.047344  1.000000  0.588759\n",
              "658  0.646229  0.035508  1.000000  0.588759\n",
              "659  0.646312  0.023672  1.000000  0.588759\n",
              "660  0.646396  0.011836  1.000000  0.588759\n",
              "661  0.646479  0.000000  1.000000  0.588759\n",
              "\n",
              "[662 rows x 4 columns]"
            ]
          },
          "metadata": {},
          "execution_count": 51
        }
      ]
    },
    {
      "cell_type": "markdown",
      "source": [
        "#Splitting the Data"
      ],
      "metadata": {
        "id": "r8RFLCa-CDea"
      }
    },
    {
      "cell_type": "code",
      "source": [
        "X = data_scaled.drop(['output1', 'output2'] , axis = 1) \n",
        "output1 = data_scaled['output1']\n",
        "output2 =  data_scaled['output2']\n",
        "\n",
        "X_train, X_val, y_train, y_val = train_test_split(X,\n",
        "pd.DataFrame({'output1':output1,'output2':output2}),test_size=0.30, random_state=1)"
      ],
      "metadata": {
        "id": "kmLG1WT7CIyY"
      },
      "execution_count": 58,
      "outputs": []
    },
    {
      "cell_type": "code",
      "source": [
        "t_features = X_train\n",
        "t_lables = y_train\n",
        "\n",
        "v_features = X_val\n",
        "v_lables = y_val\n",
        "\n",
        "training_Set = pd.concat([t_features, t_lables], ignore_index=True, sort=False)\n",
        "val_Set = pd.concat([v_features, v_lables], ignore_index=True, sort=False)"
      ],
      "metadata": {
        "id": "6OyStJo_D_FZ"
      },
      "execution_count": 64,
      "outputs": []
    },
    {
      "cell_type": "markdown",
      "source": [
        "#Saving the data"
      ],
      "metadata": {
        "id": "PGHxjT_i_7EJ"
      }
    },
    {
      "cell_type": "code",
      "source": [
        "data_scaled.to_csv('new_dataset.csv', index=False)\n",
        "training_Set.to_csv('train.csv', index=False)\n",
        "val_Set.to_csv('test.csv', index=False)"
      ],
      "metadata": {
        "id": "t5XUR7izlWzt"
      },
      "execution_count": 65,
      "outputs": []
    }
  ]
}