{
  "nbformat": 4,
  "nbformat_minor": 0,
  "metadata": {
    "colab": {
      "name": "Neural Net Class.ipynb",
      "provenance": [],
      "collapsed_sections": [],
      "authorship_tag": "ABX9TyPQ/0V7c0vESG8y4hwT6N/R",
      "include_colab_link": true
    },
    "kernelspec": {
      "name": "python3",
      "display_name": "Python 3"
    },
    "language_info": {
      "name": "python"
    }
  },
  "cells": [
    {
      "cell_type": "markdown",
      "metadata": {
        "id": "view-in-github",
        "colab_type": "text"
      },
      "source": [
        "<a href=\"https://colab.research.google.com/github/bntumb/Neural-Networks-Module-CE889/blob/main/Neural_Net_Class.ipynb\" target=\"_parent\"><img src=\"https://colab.research.google.com/assets/colab-badge.svg\" alt=\"Open In Colab\"/></a>"
      ]
    },
    {
      "cell_type": "markdown",
      "source": [
        "Author: Ben-Elie Ntumba"
      ],
      "metadata": {
        "id": "PuC2aa7YMpji"
      }
    },
    {
      "cell_type": "markdown",
      "metadata": {
        "id": "h4oLFtlj-OlX"
      },
      "source": [
        "\n",
        "# **Loading data**\n",
        "\n",
        "Data will be used for MLP inputs and outputs\n"
      ]
    },
    {
      "cell_type": "code",
      "source": [
        "import numpy as np\n",
        "import pandas as pd\n",
        "import math\n",
        "import io"
      ],
      "metadata": {
        "id": "kZt9MaawO-kt"
      },
      "execution_count": 38,
      "outputs": []
    },
    {
      "cell_type": "code",
      "execution_count": 39,
      "metadata": {
        "id": "4YIwKlAfNBWF"
      },
      "outputs": [],
      "source": [
        "training_data_file = 'https://raw.githubusercontent.com/bntumb/Neural-Networks-Module-CE889/main/train.csv'\n",
        "training_data = pd.read_csv(training_data_file)\n",
        "training_data.columns=['input1','input2','output1','output2']"
      ]
    },
    {
      "cell_type": "code",
      "source": [
        "training_data.head()"
      ],
      "metadata": {
        "colab": {
          "base_uri": "https://localhost:8080/",
          "height": 206
        },
        "id": "KAi-NJZpPjqO",
        "outputId": "8e625b95-b91f-4542-83d9-f013ae3758bf"
      },
      "execution_count": 40,
      "outputs": [
        {
          "output_type": "execute_result",
          "data": {
            "text/html": [
              "<div>\n",
              "<style scoped>\n",
              "    .dataframe tbody tr th:only-of-type {\n",
              "        vertical-align: middle;\n",
              "    }\n",
              "\n",
              "    .dataframe tbody tr th {\n",
              "        vertical-align: top;\n",
              "    }\n",
              "\n",
              "    .dataframe thead th {\n",
              "        text-align: right;\n",
              "    }\n",
              "</style>\n",
              "<table border=\"1\" class=\"dataframe\">\n",
              "  <thead>\n",
              "    <tr style=\"text-align: right;\">\n",
              "      <th></th>\n",
              "      <th>input1</th>\n",
              "      <th>input2</th>\n",
              "      <th>output1</th>\n",
              "      <th>output2</th>\n",
              "    </tr>\n",
              "  </thead>\n",
              "  <tbody>\n",
              "    <tr>\n",
              "      <th>0</th>\n",
              "      <td>0.458079</td>\n",
              "      <td>0.082555</td>\n",
              "      <td>0.601961</td>\n",
              "      <td>0.758659</td>\n",
              "    </tr>\n",
              "    <tr>\n",
              "      <th>1</th>\n",
              "      <td>0.381397</td>\n",
              "      <td>0.900807</td>\n",
              "      <td>0.248768</td>\n",
              "      <td>0.523801</td>\n",
              "    </tr>\n",
              "    <tr>\n",
              "      <th>2</th>\n",
              "      <td>0.399749</td>\n",
              "      <td>0.838377</td>\n",
              "      <td>0.391700</td>\n",
              "      <td>0.525063</td>\n",
              "    </tr>\n",
              "    <tr>\n",
              "      <th>3</th>\n",
              "      <td>0.552420</td>\n",
              "      <td>0.333605</td>\n",
              "      <td>0.770576</td>\n",
              "      <td>0.794773</td>\n",
              "    </tr>\n",
              "    <tr>\n",
              "      <th>4</th>\n",
              "      <td>0.366072</td>\n",
              "      <td>0.598240</td>\n",
              "      <td>0.594078</td>\n",
              "      <td>0.319408</td>\n",
              "    </tr>\n",
              "  </tbody>\n",
              "</table>\n",
              "</div>"
            ],
            "text/plain": [
              "     input1    input2   output1   output2\n",
              "0  0.458079  0.082555  0.601961  0.758659\n",
              "1  0.381397  0.900807  0.248768  0.523801\n",
              "2  0.399749  0.838377  0.391700  0.525063\n",
              "3  0.552420  0.333605  0.770576  0.794773\n",
              "4  0.366072  0.598240  0.594078  0.319408"
            ]
          },
          "metadata": {},
          "execution_count": 40
        }
      ]
    },
    {
      "cell_type": "code",
      "source": [
        "inputs = training_data.drop(['output1', 'output2'], axis = 1)\n",
        "outputs = training_data.drop(['input1', 'input2'], axis = 1)\n",
        "\n",
        "input_size = len(inputs.columns)\n",
        "output_size = len(outputs.columns)\n",
        "\n",
        "inputs = np.array(inputs)\n",
        "outputs = np.array(outputs)\n",
        "\n",
        "outputs.shape"
      ],
      "metadata": {
        "id": "8zJl3J0zPvV-",
        "colab": {
          "base_uri": "https://localhost:8080/"
        },
        "outputId": "e51aff76-2cd2-413a-f9fc-38f8f3c167c7"
      },
      "execution_count": 41,
      "outputs": [
        {
          "output_type": "execute_result",
          "data": {
            "text/plain": [
              "(7389, 2)"
            ]
          },
          "metadata": {},
          "execution_count": 41
        }
      ]
    },
    {
      "cell_type": "code",
      "source": [
        ""
      ],
      "metadata": {
        "id": "QdHZQILKGXd8"
      },
      "execution_count": 41,
      "outputs": []
    },
    {
      "cell_type": "code",
      "execution_count": 42,
      "metadata": {
        "id": "CHKDbHaNIyCc"
      },
      "outputs": [],
      "source": [
        "n = 8\n",
        "error =[]\n",
        "\n",
        "class NeuralNetHolder:\n",
        "    def __init__(self):\n",
        "        self.p = 0.025\n",
        "        self.noise = np.random.normal(0,1,100)\n",
        "        self.learning_rate = 1.5\n",
        "        self.weights0 =  np.random.randn(input_size, n)* 2 - 1 \n",
        "        self.weights1 = np.random.randn(n, output_size)* 2 - 1 \n",
        "        self.epochs = 6000\n",
        "        self.bias = np.random.randn()\n",
        "        super().__init__()\n",
        "\n",
        "    def step_decay(self, epoch):\n",
        "      drop = 0.2\n",
        "      epochs_drop = 100.0\n",
        "      lrate = self.learning_rate * math.pow(drop, math.floor((1+epoch)/epochs_drop))\n",
        "      return lrate\n",
        "\n",
        "    def sigmoid(self, sum):\n",
        "      return 1/(1+np.exp(-sum))\n",
        "    \n",
        "    def sigmoid_derivative(self, output):\n",
        "      return output * (1 - output)\n",
        "   \n",
        "    def dropout(self, h_layer ):\n",
        "      u1 = np.random.binomial(1, self.p, size=h_layer.shape) / self.p\n",
        "      return u1\n",
        "\n",
        "    def train_network(self, input_layer, output_layer):\n",
        "      for epoch in range(self.epochs):\n",
        "        #input_layer = inputs\n",
        "        sum_synapse0 = np.dot(input_layer, self.weights0)\n",
        "        hidden_layer = self.sigmoid(sum_synapse0)\n",
        "        hidden_layer *= self.dropout(hidden_layer)\n",
        "        sum_synapse1 = np.dot(hidden_layer, self.weights1)\n",
        "        output_layer = self.sigmoid(sum_synapse1)\n",
        "\n",
        "        error_output_layer = outputs - output_layer\n",
        "        average = np.mean(abs(error_output_layer))\n",
        "\n",
        "        if epoch % 1000== 0:\n",
        "          print('Epoch: ' + str(epoch + 1) + ' Error: ' + str(average))\n",
        "          error.append(average)\n",
        "        \n",
        "        derivative_output = self.sigmoid_derivative(output_layer)\n",
        "        delta_output = error_output_layer * derivative_output\n",
        "        \n",
        "        weights1T = self.weights1.T\n",
        "        delta_output_weight = delta_output.dot(weights1T)\n",
        "        delta_hidden_layer = delta_output_weight * self.sigmoid_derivative(hidden_layer)\n",
        "        \n",
        "        hidden_layer_transpose  = hidden_layer.T\n",
        "        input_x_delta1 = hidden_layer_transpose .dot(delta_output)\n",
        "        weights1 = self.weights1 + (input_x_delta1 * self.step_decay(epoch)) #backpropagration\n",
        "        \n",
        "        input_layer_transpose  = input_layer.T\n",
        "        input_x_delta0 = input_layer_transpose .dot(delta_hidden_layer)\n",
        "        weights0 = self.weights0 + (input_x_delta0 * self.step_decay(epoch))\n",
        "        \n",
        "    def predict(self, input_row):\n",
        "      hidden_layer = self.sigmoid(np.dot(input_row, self.weights0)) + self.bias\n",
        "      output_layer = self.sigmoid(np.dot(hidden_layer, self.weights1))\n",
        "      return output_layer\n",
        "\n",
        "\n"
      ]
    },
    {
      "cell_type": "code",
      "source": [
        "neural_network = NeuralNetHolder()\n",
        "training_error = neural_network.train_network(inputs, outputs)"
      ],
      "metadata": {
        "colab": {
          "base_uri": "https://localhost:8080/"
        },
        "id": "51Wyh7JtKaK8",
        "outputId": "77f984f2-013c-4480-c6cf-818ca4514380"
      },
      "execution_count": 43,
      "outputs": [
        {
          "output_type": "stream",
          "name": "stdout",
          "text": [
            "Epoch: 1 Error: 0.1892673720066981\n",
            "Epoch: 1001 Error: 0.18768241147683645\n",
            "Epoch: 2001 Error: 0.19084021288696143\n",
            "Epoch: 3001 Error: 0.18899678920521726\n",
            "Epoch: 4001 Error: 0.18834712799012912\n",
            "Epoch: 5001 Error: 0.18854940095327777\n"
          ]
        }
      ]
    },
    {
      "cell_type": "code",
      "source": [
        "import matplotlib.pyplot as plt\n",
        "plt.xlabel('Epochs')\n",
        "plt.ylabel('Error')\n",
        "plt.plot(error)\n"
      ],
      "metadata": {
        "colab": {
          "base_uri": "https://localhost:8080/",
          "height": 296
        },
        "id": "KYD3dfqzpBMa",
        "outputId": "f161ef0b-8d67-4c00-eec9-686bb15a28c0"
      },
      "execution_count": 44,
      "outputs": [
        {
          "output_type": "execute_result",
          "data": {
            "text/plain": [
              "[<matplotlib.lines.Line2D at 0x7fa972c13c10>]"
            ]
          },
          "metadata": {},
          "execution_count": 44
        },
        {
          "output_type": "display_data",
          "data": {
            "image/png": "[encoded data removed]",
            "text/plain": [
              "<Figure size 432x288 with 1 Axes>"
            ]
          },
          "metadata": {
            "needs_background": "light"
          }
        }
      ]
    },
    {
      "cell_type": "code",
      "source": [
        "neural_network.predict(inputs[1]), outputs[1]\n"
      ],
      "metadata": {
        "colab": {
          "base_uri": "https://localhost:8080/"
        },
        "id": "-5K7LUkNajX3",
        "outputId": "2e571c68-e457-4de6-cf61-6e9a167caeaf"
      },
      "execution_count": 45,
      "outputs": [
        {
          "output_type": "execute_result",
          "data": {
            "text/plain": [
              "(array([0.0002222 , 0.00058143]), array([0.24876785, 0.52380108]))"
            ]
          },
          "metadata": {},
          "execution_count": 45
        }
      ]
    }
  ]
}